{
 "cells": [
  {
   "cell_type": "code",
   "execution_count": 1,
   "metadata": {},
   "outputs": [],
   "source": [
    "import numpy as np\n",
    "import pandas as pd\n",
    "import matplotlib.pyplot as plt\n",
    "import seaborn as sns\n",
    "import folium"
   ]
  },
  {
   "cell_type": "code",
   "execution_count": 2,
   "metadata": {},
   "outputs": [],
   "source": [
    "data = pd.read_csv('~/Desktop/voiture_occasion/data_cars_cleaned')"
   ]
  },
  {
   "cell_type": "code",
   "execution_count": 3,
   "metadata": {},
   "outputs": [
    {
     "data": {
      "text/html": [
       "<div>\n",
       "<style scoped>\n",
       "    .dataframe tbody tr th:only-of-type {\n",
       "        vertical-align: middle;\n",
       "    }\n",
       "\n",
       "    .dataframe tbody tr th {\n",
       "        vertical-align: top;\n",
       "    }\n",
       "\n",
       "    .dataframe thead th {\n",
       "        text-align: right;\n",
       "    }\n",
       "</style>\n",
       "<table border=\"1\" class=\"dataframe\">\n",
       "  <thead>\n",
       "    <tr style=\"text-align: right;\">\n",
       "      <th></th>\n",
       "      <th>prices</th>\n",
       "      <th>cv</th>\n",
       "      <th>fuel</th>\n",
       "      <th>trasmission</th>\n",
       "      <th>annee_publication</th>\n",
       "      <th>location</th>\n",
       "      <th>type_seller</th>\n",
       "      <th>km</th>\n",
       "      <th>mise_en_vente</th>\n",
       "      <th>etat</th>\n",
       "      <th>age</th>\n",
       "      <th>description_long</th>\n",
       "      <th>nom_voiture</th>\n",
       "      <th>serie_voitures</th>\n",
       "    </tr>\n",
       "  </thead>\n",
       "  <tbody>\n",
       "    <tr>\n",
       "      <th>0</th>\n",
       "      <td>32000</td>\n",
       "      <td>5</td>\n",
       "      <td>Essence</td>\n",
       "      <td>Manuelle</td>\n",
       "      <td>2021</td>\n",
       "      <td>Ezzahra</td>\n",
       "      <td>professionnel</td>\n",
       "      <td>91000</td>\n",
       "      <td>2015</td>\n",
       "      <td>Excellent</td>\n",
       "      <td>6</td>\n",
       "      <td>4</td>\n",
       "      <td>volkswagen</td>\n",
       "      <td>polo</td>\n",
       "    </tr>\n",
       "    <tr>\n",
       "      <th>1</th>\n",
       "      <td>140000</td>\n",
       "      <td>11</td>\n",
       "      <td>Diesel</td>\n",
       "      <td>Automatique</td>\n",
       "      <td>2021</td>\n",
       "      <td>Ezzahra</td>\n",
       "      <td>professionnel</td>\n",
       "      <td>148000</td>\n",
       "      <td>2012</td>\n",
       "      <td>Excellent</td>\n",
       "      <td>9</td>\n",
       "      <td>4</td>\n",
       "      <td>jaguar</td>\n",
       "      <td>xf</td>\n",
       "    </tr>\n",
       "    <tr>\n",
       "      <th>2</th>\n",
       "      <td>22500</td>\n",
       "      <td>11</td>\n",
       "      <td>Essence</td>\n",
       "      <td>Manuelle</td>\n",
       "      <td>2021</td>\n",
       "      <td>Ezzahra</td>\n",
       "      <td>professionnel</td>\n",
       "      <td>1000000</td>\n",
       "      <td>2001</td>\n",
       "      <td>Excellent</td>\n",
       "      <td>20</td>\n",
       "      <td>3</td>\n",
       "      <td>audi</td>\n",
       "      <td>tt</td>\n",
       "    </tr>\n",
       "    <tr>\n",
       "      <th>3</th>\n",
       "      <td>50000</td>\n",
       "      <td>9</td>\n",
       "      <td>Essence</td>\n",
       "      <td>Automatique</td>\n",
       "      <td>2021</td>\n",
       "      <td>Ezzahra</td>\n",
       "      <td>professionnel</td>\n",
       "      <td>192000</td>\n",
       "      <td>2008</td>\n",
       "      <td>Excellent</td>\n",
       "      <td>13</td>\n",
       "      <td>8</td>\n",
       "      <td>mercedes</td>\n",
       "      <td>c180</td>\n",
       "    </tr>\n",
       "    <tr>\n",
       "      <th>4</th>\n",
       "      <td>30000</td>\n",
       "      <td>8</td>\n",
       "      <td>Diesel</td>\n",
       "      <td>Automatique</td>\n",
       "      <td>2021</td>\n",
       "      <td>Ezzahra</td>\n",
       "      <td>professionnel</td>\n",
       "      <td>372000</td>\n",
       "      <td>2005</td>\n",
       "      <td>Excellent</td>\n",
       "      <td>16</td>\n",
       "      <td>5</td>\n",
       "      <td>volkswagen</td>\n",
       "      <td>passat</td>\n",
       "    </tr>\n",
       "  </tbody>\n",
       "</table>\n",
       "</div>"
      ],
      "text/plain": [
       "   prices  cv     fuel  trasmission  annee_publication location  \\\n",
       "0   32000   5  Essence     Manuelle               2021  Ezzahra   \n",
       "1  140000  11   Diesel  Automatique               2021  Ezzahra   \n",
       "2   22500  11  Essence     Manuelle               2021  Ezzahra   \n",
       "3   50000   9  Essence  Automatique               2021  Ezzahra   \n",
       "4   30000   8   Diesel  Automatique               2021  Ezzahra   \n",
       "\n",
       "     type_seller       km  mise_en_vente       etat  age  description_long  \\\n",
       "0  professionnel    91000           2015  Excellent    6                 4   \n",
       "1  professionnel   148000           2012  Excellent    9                 4   \n",
       "2  professionnel  1000000           2001  Excellent   20                 3   \n",
       "3  professionnel   192000           2008  Excellent   13                 8   \n",
       "4  professionnel   372000           2005  Excellent   16                 5   \n",
       "\n",
       "  nom_voiture serie_voitures  \n",
       "0  volkswagen           polo  \n",
       "1      jaguar             xf  \n",
       "2        audi             tt  \n",
       "3    mercedes           c180  \n",
       "4  volkswagen         passat  "
      ]
     },
     "execution_count": 3,
     "metadata": {},
     "output_type": "execute_result"
    }
   ],
   "source": [
    "data.head()"
   ]
  },
  {
   "cell_type": "code",
   "execution_count": 4,
   "metadata": {},
   "outputs": [
    {
     "data": {
      "text/plain": [
       "Index(['prices', 'cv', 'fuel', 'trasmission', 'annee_publication', 'location',\n",
       "       'type_seller', 'km', 'mise_en_vente', 'etat', 'age', 'description_long',\n",
       "       'nom_voiture', 'serie_voitures'],\n",
       "      dtype='object')"
      ]
     },
     "execution_count": 4,
     "metadata": {},
     "output_type": "execute_result"
    }
   ],
   "source": [
    "data.columns"
   ]
  },
  {
   "cell_type": "code",
   "execution_count": 5,
   "metadata": {},
   "outputs": [],
   "source": [
    "columns_ord=['nom_voiture','serie_voitures', 'mise_en_vente' , 'annee_publication','age','cv', 'description_long', 'fuel', 'trasmission', 'location','type_seller', 'km', 'etat','prices' ]\n",
    "data=data.reindex(columns_ord, axis=1)"
   ]
  },
  {
   "cell_type": "code",
   "execution_count": 6,
   "metadata": {},
   "outputs": [
    {
     "data": {
      "text/html": [
       "<div>\n",
       "<style scoped>\n",
       "    .dataframe tbody tr th:only-of-type {\n",
       "        vertical-align: middle;\n",
       "    }\n",
       "\n",
       "    .dataframe tbody tr th {\n",
       "        vertical-align: top;\n",
       "    }\n",
       "\n",
       "    .dataframe thead th {\n",
       "        text-align: right;\n",
       "    }\n",
       "</style>\n",
       "<table border=\"1\" class=\"dataframe\">\n",
       "  <thead>\n",
       "    <tr style=\"text-align: right;\">\n",
       "      <th></th>\n",
       "      <th>nom_voiture</th>\n",
       "      <th>serie_voitures</th>\n",
       "      <th>mise_en_vente</th>\n",
       "      <th>annee_publication</th>\n",
       "      <th>age</th>\n",
       "      <th>cv</th>\n",
       "      <th>description_long</th>\n",
       "      <th>fuel</th>\n",
       "      <th>trasmission</th>\n",
       "      <th>location</th>\n",
       "      <th>type_seller</th>\n",
       "      <th>km</th>\n",
       "      <th>etat</th>\n",
       "      <th>prices</th>\n",
       "    </tr>\n",
       "  </thead>\n",
       "  <tbody>\n",
       "    <tr>\n",
       "      <th>0</th>\n",
       "      <td>volkswagen</td>\n",
       "      <td>polo</td>\n",
       "      <td>2015</td>\n",
       "      <td>2021</td>\n",
       "      <td>6</td>\n",
       "      <td>5</td>\n",
       "      <td>4</td>\n",
       "      <td>Essence</td>\n",
       "      <td>Manuelle</td>\n",
       "      <td>Ezzahra</td>\n",
       "      <td>professionnel</td>\n",
       "      <td>91000</td>\n",
       "      <td>Excellent</td>\n",
       "      <td>32000</td>\n",
       "    </tr>\n",
       "    <tr>\n",
       "      <th>1</th>\n",
       "      <td>jaguar</td>\n",
       "      <td>xf</td>\n",
       "      <td>2012</td>\n",
       "      <td>2021</td>\n",
       "      <td>9</td>\n",
       "      <td>11</td>\n",
       "      <td>4</td>\n",
       "      <td>Diesel</td>\n",
       "      <td>Automatique</td>\n",
       "      <td>Ezzahra</td>\n",
       "      <td>professionnel</td>\n",
       "      <td>148000</td>\n",
       "      <td>Excellent</td>\n",
       "      <td>140000</td>\n",
       "    </tr>\n",
       "    <tr>\n",
       "      <th>2</th>\n",
       "      <td>audi</td>\n",
       "      <td>tt</td>\n",
       "      <td>2001</td>\n",
       "      <td>2021</td>\n",
       "      <td>20</td>\n",
       "      <td>11</td>\n",
       "      <td>3</td>\n",
       "      <td>Essence</td>\n",
       "      <td>Manuelle</td>\n",
       "      <td>Ezzahra</td>\n",
       "      <td>professionnel</td>\n",
       "      <td>1000000</td>\n",
       "      <td>Excellent</td>\n",
       "      <td>22500</td>\n",
       "    </tr>\n",
       "    <tr>\n",
       "      <th>3</th>\n",
       "      <td>mercedes</td>\n",
       "      <td>c180</td>\n",
       "      <td>2008</td>\n",
       "      <td>2021</td>\n",
       "      <td>13</td>\n",
       "      <td>9</td>\n",
       "      <td>8</td>\n",
       "      <td>Essence</td>\n",
       "      <td>Automatique</td>\n",
       "      <td>Ezzahra</td>\n",
       "      <td>professionnel</td>\n",
       "      <td>192000</td>\n",
       "      <td>Excellent</td>\n",
       "      <td>50000</td>\n",
       "    </tr>\n",
       "    <tr>\n",
       "      <th>4</th>\n",
       "      <td>volkswagen</td>\n",
       "      <td>passat</td>\n",
       "      <td>2005</td>\n",
       "      <td>2021</td>\n",
       "      <td>16</td>\n",
       "      <td>8</td>\n",
       "      <td>5</td>\n",
       "      <td>Diesel</td>\n",
       "      <td>Automatique</td>\n",
       "      <td>Ezzahra</td>\n",
       "      <td>professionnel</td>\n",
       "      <td>372000</td>\n",
       "      <td>Excellent</td>\n",
       "      <td>30000</td>\n",
       "    </tr>\n",
       "    <tr>\n",
       "      <th>5</th>\n",
       "      <td>citroen</td>\n",
       "      <td>c3</td>\n",
       "      <td>2017</td>\n",
       "      <td>2021</td>\n",
       "      <td>4</td>\n",
       "      <td>4</td>\n",
       "      <td>5</td>\n",
       "      <td>Essence</td>\n",
       "      <td>Manuelle</td>\n",
       "      <td>Ezzahra</td>\n",
       "      <td>professionnel</td>\n",
       "      <td>75000</td>\n",
       "      <td>Excellent</td>\n",
       "      <td>38500</td>\n",
       "    </tr>\n",
       "    <tr>\n",
       "      <th>6</th>\n",
       "      <td>citroen</td>\n",
       "      <td>c5</td>\n",
       "      <td>2012</td>\n",
       "      <td>2021</td>\n",
       "      <td>9</td>\n",
       "      <td>6</td>\n",
       "      <td>4</td>\n",
       "      <td>Diesel</td>\n",
       "      <td>Manuelle</td>\n",
       "      <td>Ezzahra</td>\n",
       "      <td>professionnel</td>\n",
       "      <td>193000</td>\n",
       "      <td>Excellent</td>\n",
       "      <td>34900</td>\n",
       "    </tr>\n",
       "    <tr>\n",
       "      <th>7</th>\n",
       "      <td>bmw</td>\n",
       "      <td>316i</td>\n",
       "      <td>2008</td>\n",
       "      <td>2021</td>\n",
       "      <td>13</td>\n",
       "      <td>7</td>\n",
       "      <td>6</td>\n",
       "      <td>Essence</td>\n",
       "      <td>Manuelle</td>\n",
       "      <td>Ezzahra</td>\n",
       "      <td>professionnel</td>\n",
       "      <td>171000</td>\n",
       "      <td>Excellent</td>\n",
       "      <td>38900</td>\n",
       "    </tr>\n",
       "    <tr>\n",
       "      <th>8</th>\n",
       "      <td>hyundai</td>\n",
       "      <td>grand</td>\n",
       "      <td>2016</td>\n",
       "      <td>2021</td>\n",
       "      <td>5</td>\n",
       "      <td>5</td>\n",
       "      <td>7</td>\n",
       "      <td>Essence</td>\n",
       "      <td>Manuelle</td>\n",
       "      <td>Ariana Ville</td>\n",
       "      <td>professionnel</td>\n",
       "      <td>123000</td>\n",
       "      <td>Excellent</td>\n",
       "      <td>29900</td>\n",
       "    </tr>\n",
       "    <tr>\n",
       "      <th>9</th>\n",
       "      <td>kia</td>\n",
       "      <td>cerato</td>\n",
       "      <td>2014</td>\n",
       "      <td>2021</td>\n",
       "      <td>7</td>\n",
       "      <td>8</td>\n",
       "      <td>9</td>\n",
       "      <td>Essence</td>\n",
       "      <td>Manuelle</td>\n",
       "      <td>Ezzahra</td>\n",
       "      <td>professionnel</td>\n",
       "      <td>98000</td>\n",
       "      <td>Excellent</td>\n",
       "      <td>49500</td>\n",
       "    </tr>\n",
       "  </tbody>\n",
       "</table>\n",
       "</div>"
      ],
      "text/plain": [
       "  nom_voiture serie_voitures  mise_en_vente  annee_publication  age  cv  \\\n",
       "0  volkswagen           polo           2015               2021    6   5   \n",
       "1      jaguar             xf           2012               2021    9  11   \n",
       "2        audi             tt           2001               2021   20  11   \n",
       "3    mercedes           c180           2008               2021   13   9   \n",
       "4  volkswagen         passat           2005               2021   16   8   \n",
       "5     citroen             c3           2017               2021    4   4   \n",
       "6     citroen             c5           2012               2021    9   6   \n",
       "7         bmw           316i           2008               2021   13   7   \n",
       "8     hyundai          grand           2016               2021    5   5   \n",
       "9         kia         cerato           2014               2021    7   8   \n",
       "\n",
       "   description_long     fuel  trasmission      location    type_seller  \\\n",
       "0                 4  Essence     Manuelle       Ezzahra  professionnel   \n",
       "1                 4   Diesel  Automatique       Ezzahra  professionnel   \n",
       "2                 3  Essence     Manuelle       Ezzahra  professionnel   \n",
       "3                 8  Essence  Automatique       Ezzahra  professionnel   \n",
       "4                 5   Diesel  Automatique       Ezzahra  professionnel   \n",
       "5                 5  Essence     Manuelle       Ezzahra  professionnel   \n",
       "6                 4   Diesel     Manuelle       Ezzahra  professionnel   \n",
       "7                 6  Essence     Manuelle       Ezzahra  professionnel   \n",
       "8                 7  Essence     Manuelle  Ariana Ville  professionnel   \n",
       "9                 9  Essence     Manuelle       Ezzahra  professionnel   \n",
       "\n",
       "        km       etat  prices  \n",
       "0    91000  Excellent   32000  \n",
       "1   148000  Excellent  140000  \n",
       "2  1000000  Excellent   22500  \n",
       "3   192000  Excellent   50000  \n",
       "4   372000  Excellent   30000  \n",
       "5    75000  Excellent   38500  \n",
       "6   193000  Excellent   34900  \n",
       "7   171000  Excellent   38900  \n",
       "8   123000  Excellent   29900  \n",
       "9    98000  Excellent   49500  "
      ]
     },
     "execution_count": 6,
     "metadata": {},
     "output_type": "execute_result"
    }
   ],
   "source": [
    "data.head(10)"
   ]
  },
  {
   "cell_type": "code",
   "execution_count": 7,
   "metadata": {},
   "outputs": [
    {
     "data": {
      "text/html": [
       "<div>\n",
       "<style scoped>\n",
       "    .dataframe tbody tr th:only-of-type {\n",
       "        vertical-align: middle;\n",
       "    }\n",
       "\n",
       "    .dataframe tbody tr th {\n",
       "        vertical-align: top;\n",
       "    }\n",
       "\n",
       "    .dataframe thead th {\n",
       "        text-align: right;\n",
       "    }\n",
       "</style>\n",
       "<table border=\"1\" class=\"dataframe\">\n",
       "  <thead>\n",
       "    <tr style=\"text-align: right;\">\n",
       "      <th></th>\n",
       "      <th>mise_en_vente</th>\n",
       "      <th>annee_publication</th>\n",
       "      <th>age</th>\n",
       "      <th>cv</th>\n",
       "      <th>description_long</th>\n",
       "      <th>km</th>\n",
       "      <th>prices</th>\n",
       "    </tr>\n",
       "  </thead>\n",
       "  <tbody>\n",
       "    <tr>\n",
       "      <th>count</th>\n",
       "      <td>3010.000000</td>\n",
       "      <td>3010.000000</td>\n",
       "      <td>3010.000000</td>\n",
       "      <td>3010.000000</td>\n",
       "      <td>3010.000000</td>\n",
       "      <td>3.010000e+03</td>\n",
       "      <td>3010.000000</td>\n",
       "    </tr>\n",
       "    <tr>\n",
       "      <th>mean</th>\n",
       "      <td>2009.579070</td>\n",
       "      <td>2017.296678</td>\n",
       "      <td>7.717608</td>\n",
       "      <td>6.209635</td>\n",
       "      <td>3.064784</td>\n",
       "      <td>1.367393e+05</td>\n",
       "      <td>31336.919601</td>\n",
       "    </tr>\n",
       "    <tr>\n",
       "      <th>std</th>\n",
       "      <td>5.303287</td>\n",
       "      <td>1.577095</td>\n",
       "      <td>5.138752</td>\n",
       "      <td>2.557333</td>\n",
       "      <td>1.814088</td>\n",
       "      <td>9.289872e+04</td>\n",
       "      <td>23063.508349</td>\n",
       "    </tr>\n",
       "    <tr>\n",
       "      <th>min</th>\n",
       "      <td>1960.000000</td>\n",
       "      <td>2016.000000</td>\n",
       "      <td>0.000000</td>\n",
       "      <td>4.000000</td>\n",
       "      <td>1.000000</td>\n",
       "      <td>0.000000e+00</td>\n",
       "      <td>4300.000000</td>\n",
       "    </tr>\n",
       "    <tr>\n",
       "      <th>25%</th>\n",
       "      <td>2007.000000</td>\n",
       "      <td>2016.000000</td>\n",
       "      <td>4.000000</td>\n",
       "      <td>5.000000</td>\n",
       "      <td>2.000000</td>\n",
       "      <td>7.900000e+04</td>\n",
       "      <td>17050.000000</td>\n",
       "    </tr>\n",
       "    <tr>\n",
       "      <th>50%</th>\n",
       "      <td>2011.000000</td>\n",
       "      <td>2017.000000</td>\n",
       "      <td>6.000000</td>\n",
       "      <td>5.000000</td>\n",
       "      <td>2.000000</td>\n",
       "      <td>1.250000e+05</td>\n",
       "      <td>24500.000000</td>\n",
       "    </tr>\n",
       "    <tr>\n",
       "      <th>75%</th>\n",
       "      <td>2013.000000</td>\n",
       "      <td>2018.000000</td>\n",
       "      <td>10.000000</td>\n",
       "      <td>7.000000</td>\n",
       "      <td>3.000000</td>\n",
       "      <td>1.760000e+05</td>\n",
       "      <td>38000.000000</td>\n",
       "    </tr>\n",
       "    <tr>\n",
       "      <th>max</th>\n",
       "      <td>2020.000000</td>\n",
       "      <td>2021.000000</td>\n",
       "      <td>58.000000</td>\n",
       "      <td>29.000000</td>\n",
       "      <td>17.000000</td>\n",
       "      <td>1.400000e+06</td>\n",
       "      <td>310000.000000</td>\n",
       "    </tr>\n",
       "  </tbody>\n",
       "</table>\n",
       "</div>"
      ],
      "text/plain": [
       "       mise_en_vente  annee_publication          age           cv  \\\n",
       "count    3010.000000        3010.000000  3010.000000  3010.000000   \n",
       "mean     2009.579070        2017.296678     7.717608     6.209635   \n",
       "std         5.303287           1.577095     5.138752     2.557333   \n",
       "min      1960.000000        2016.000000     0.000000     4.000000   \n",
       "25%      2007.000000        2016.000000     4.000000     5.000000   \n",
       "50%      2011.000000        2017.000000     6.000000     5.000000   \n",
       "75%      2013.000000        2018.000000    10.000000     7.000000   \n",
       "max      2020.000000        2021.000000    58.000000    29.000000   \n",
       "\n",
       "       description_long            km         prices  \n",
       "count       3010.000000  3.010000e+03    3010.000000  \n",
       "mean           3.064784  1.367393e+05   31336.919601  \n",
       "std            1.814088  9.289872e+04   23063.508349  \n",
       "min            1.000000  0.000000e+00    4300.000000  \n",
       "25%            2.000000  7.900000e+04   17050.000000  \n",
       "50%            2.000000  1.250000e+05   24500.000000  \n",
       "75%            3.000000  1.760000e+05   38000.000000  \n",
       "max           17.000000  1.400000e+06  310000.000000  "
      ]
     },
     "execution_count": 7,
     "metadata": {},
     "output_type": "execute_result"
    }
   ],
   "source": [
    "data.describe()"
   ]
  },
  {
   "cell_type": "code",
   "execution_count": 8,
   "metadata": {},
   "outputs": [
    {
     "data": {
      "text/plain": [
       "<AxesSubplot:>"
      ]
     },
     "execution_count": 8,
     "metadata": {},
     "output_type": "execute_result"
    },
    {
     "data": {
      "image/png": "[encoded data removed]",
      "text/plain": [
       "<Figure size 432x288 with 1 Axes>"
      ]
     },
     "metadata": {
      "needs_background": "light"
     },
     "output_type": "display_data"
    }
   ],
   "source": [
    "data.age.hist()"
   ]
  },
  {
   "cell_type": "code",
   "execution_count": 9,
   "metadata": {},
   "outputs": [
    {
     "data": {
      "text/plain": [
       "<AxesSubplot:>"
      ]
     },
     "execution_count": 9,
     "metadata": {},
     "output_type": "execute_result"
    },
    {
     "data": {
      "image/png": "[encoded data removed]",
      "text/plain": [
       "<Figure size 432x288 with 1 Axes>"
      ]
     },
     "metadata": {
      "needs_background": "light"
     },
     "output_type": "display_data"
    }
   ],
   "source": [
    "data.cv.hist()"
   ]
  },
  {
   "cell_type": "code",
   "execution_count": 10,
   "metadata": {},
   "outputs": [
    {
     "data": {
      "text/plain": [
       "<AxesSubplot:>"
      ]
     },
     "execution_count": 10,
     "metadata": {},
     "output_type": "execute_result"
    },
    {
     "data": {
      "image/png": "[encoded data removed]",
      "text/plain": [
       "<Figure size 432x288 with 1 Axes>"
      ]
     },
     "metadata": {
      "needs_background": "light"
     },
     "output_type": "display_data"
    }
   ],
   "source": [
    "data.km.hist()"
   ]
  },
  {
   "cell_type": "code",
   "execution_count": 11,
   "metadata": {},
   "outputs": [
    {
     "data": {
      "text/plain": [
       "<AxesSubplot:>"
      ]
     },
     "execution_count": 11,
     "metadata": {},
     "output_type": "execute_result"
    },
    {
     "data": {
      "image/png": "[encoded data removed]",
      "text/plain": [
       "<Figure size 432x288 with 1 Axes>"
      ]
     },
     "metadata": {
      "needs_background": "light"
     },
     "output_type": "display_data"
    }
   ],
   "source": [
    "data.description_long.hist()"
   ]
  },
  {
   "cell_type": "code",
   "execution_count": 12,
   "metadata": {},
   "outputs": [
    {
     "data": {
      "text/plain": [
       "<AxesSubplot:>"
      ]
     },
     "execution_count": 12,
     "metadata": {},
     "output_type": "execute_result"
    },
    {
     "data": {
      "image/png": "[encoded data removed]",
      "text/plain": [
       "<Figure size 432x288 with 1 Axes>"
      ]
     },
     "metadata": {
      "needs_background": "light"
     },
     "output_type": "display_data"
    }
   ],
   "source": [
    "data.prices.hist()"
   ]
  },
  {
   "cell_type": "code",
   "execution_count": 13,
   "metadata": {},
   "outputs": [
    {
     "data": {
      "text/plain": [
       "<AxesSubplot:>"
      ]
     },
     "execution_count": 13,
     "metadata": {},
     "output_type": "execute_result"
    },
    {
     "data": {
      "image/png": "[encoded data removed]",
      "text/plain": [
       "<Figure size 432x288 with 1 Axes>"
      ]
     },
     "metadata": {
      "needs_background": "light"
     },
     "output_type": "display_data"
    }
   ],
   "source": [
    "data.boxplot(column='prices')"
   ]
  },
  {
   "cell_type": "code",
   "execution_count": 17,
   "metadata": {},
   "outputs": [
    {
     "data": {
      "text/html": [
       "<div>\n",
       "<style scoped>\n",
       "    .dataframe tbody tr th:only-of-type {\n",
       "        vertical-align: middle;\n",
       "    }\n",
       "\n",
       "    .dataframe tbody tr th {\n",
       "        vertical-align: top;\n",
       "    }\n",
       "\n",
       "    .dataframe thead th {\n",
       "        text-align: right;\n",
       "    }\n",
       "</style>\n",
       "<table border=\"1\" class=\"dataframe\">\n",
       "  <thead>\n",
       "    <tr style=\"text-align: right;\">\n",
       "      <th></th>\n",
       "      <th>age</th>\n",
       "      <th>cv</th>\n",
       "      <th>description_long</th>\n",
       "      <th>km</th>\n",
       "      <th>prices</th>\n",
       "    </tr>\n",
       "  </thead>\n",
       "  <tbody>\n",
       "    <tr>\n",
       "      <th>age</th>\n",
       "      <td>1.000000</td>\n",
       "      <td>0.075695</td>\n",
       "      <td>-0.038393</td>\n",
       "      <td>0.572939</td>\n",
       "      <td>-0.338866</td>\n",
       "    </tr>\n",
       "    <tr>\n",
       "      <th>cv</th>\n",
       "      <td>0.075695</td>\n",
       "      <td>1.000000</td>\n",
       "      <td>0.183827</td>\n",
       "      <td>0.099644</td>\n",
       "      <td>0.529998</td>\n",
       "    </tr>\n",
       "    <tr>\n",
       "      <th>description_long</th>\n",
       "      <td>-0.038393</td>\n",
       "      <td>0.183827</td>\n",
       "      <td>1.000000</td>\n",
       "      <td>-0.009925</td>\n",
       "      <td>0.383762</td>\n",
       "    </tr>\n",
       "    <tr>\n",
       "      <th>km</th>\n",
       "      <td>0.572939</td>\n",
       "      <td>0.099644</td>\n",
       "      <td>-0.009925</td>\n",
       "      <td>1.000000</td>\n",
       "      <td>-0.245341</td>\n",
       "    </tr>\n",
       "    <tr>\n",
       "      <th>prices</th>\n",
       "      <td>-0.338866</td>\n",
       "      <td>0.529998</td>\n",
       "      <td>0.383762</td>\n",
       "      <td>-0.245341</td>\n",
       "      <td>1.000000</td>\n",
       "    </tr>\n",
       "  </tbody>\n",
       "</table>\n",
       "</div>"
      ],
      "text/plain": [
       "                       age        cv  description_long        km    prices\n",
       "age               1.000000  0.075695         -0.038393  0.572939 -0.338866\n",
       "cv                0.075695  1.000000          0.183827  0.099644  0.529998\n",
       "description_long -0.038393  0.183827          1.000000 -0.009925  0.383762\n",
       "km                0.572939  0.099644         -0.009925  1.000000 -0.245341\n",
       "prices           -0.338866  0.529998          0.383762 -0.245341  1.000000"
      ]
     },
     "execution_count": 17,
     "metadata": {},
     "output_type": "execute_result"
    }
   ],
   "source": [
    "corrolation=data[['age','cv','description_long','km','prices']].corr()\n",
    "corrolation"
   ]
  },
  {
   "cell_type": "code",
   "execution_count": 18,
   "metadata": {},
   "outputs": [
    {
     "data": {
      "text/plain": [
       "<AxesSubplot:>"
      ]
     },
     "execution_count": 18,
     "metadata": {},
     "output_type": "execute_result"
    },
    {
     "data": {
      "image/png": "[encoded data removed]",
      "text/plain": [
       "<Figure size 432x288 with 2 Axes>"
      ]
     },
     "metadata": {
      "needs_background": "light"
     },
     "output_type": "display_data"
    }
   ],
   "source": [
    "mask = np.triu(np.ones_like(corrolation, dtype=bool))\n",
    "cmap = sns.diverging_palette(230, 20, as_cmap=True)\n",
    "sns.heatmap(corrolation, mask=mask, cmap=cmap, vmax=.3, center=0,\n",
    "            square=True, linewidths=.5)"
   ]
  },
  {
   "cell_type": "code",
   "execution_count": 20,
   "metadata": {},
   "outputs": [
    {
     "name": "stdout",
     "output_type": "stream",
     "text": [
      "ghraph for fuel :counts= 3\n"
     ]
    },
    {
     "data": {
      "image/png": "[encoded data removed]",
      "text/plain": [
       "<Figure size 432x360 with 1 Axes>"
      ]
     },
     "metadata": {
      "needs_background": "light"
     },
     "output_type": "display_data"
    },
    {
     "name": "stdout",
     "output_type": "stream",
     "text": [
      "ghraph for trasmission :counts= 3\n"
     ]
    },
    {
     "data": {
      "image/png": "[encoded data removed]",
      "text/plain": [
       "<Figure size 432x360 with 1 Axes>"
      ]
     },
     "metadata": {
      "needs_background": "light"
     },
     "output_type": "display_data"
    },
    {
     "name": "stdout",
     "output_type": "stream",
     "text": [
      "ghraph for type_seller :counts= 2\n"
     ]
    },
    {
     "data": {
      "image/png": "[encoded data removed]",
      "text/plain": [
       "<Figure size 432x360 with 1 Axes>"
      ]
     },
     "metadata": {
      "needs_background": "light"
     },
     "output_type": "display_data"
    },
    {
     "name": "stdout",
     "output_type": "stream",
     "text": [
      "ghraph for etat :counts= 8\n"
     ]
    },
    {
     "data": {
      "image/png": "[encoded data removed]",
      "text/plain": [
       "<Figure size 432x360 with 1 Axes>"
      ]
     },
     "metadata": {
      "needs_background": "light"
     },
     "output_type": "display_data"
    }
   ],
   "source": [
    "df =data[['fuel','trasmission','type_seller','etat']]\n",
    "for i in df.columns:\n",
    "    num=df[i].value_counts()\n",
    "    print('ghraph for %s :counts= %d' % (i ,len(num)))\n",
    "    fig, ax = plt.subplots(figsize=(6,5))\n",
    "    g=sns.barplot(x=num.index,y=num)\n",
    "    g.set_xticklabels(num.index,rotation=45)\n",
    "    \n",
    "    plt.show()"
   ]
  },
  {
   "cell_type": "code",
   "execution_count": 21,
   "metadata": {},
   "outputs": [
    {
     "name": "stdout",
     "output_type": "stream",
     "text": [
      "ghraph for nom_voiture :counts= 42\n"
     ]
    },
    {
     "data": {
      "image/png": "[encoded data removed]",
      "text/plain": [
       "<Figure size 720x432 with 1 Axes>"
      ]
     },
     "metadata": {
      "needs_background": "light"
     },
     "output_type": "display_data"
    },
    {
     "name": "stdout",
     "output_type": "stream",
     "text": [
      "ghraph for mise_en_vente :counts= 40\n"
     ]
    },
    {
     "data": {
      "image/png": "[encoded data removed]",
      "text/plain": [
       "<Figure size 720x432 with 1 Axes>"
      ]
     },
     "metadata": {
      "needs_background": "light"
     },
     "output_type": "display_data"
    }
   ],
   "source": [
    "df =data[['nom_voiture','mise_en_vente']]\n",
    "for i in df.columns:\n",
    "    num=df[i].value_counts()\n",
    "    \n",
    "    print('ghraph for %s :counts= %d' % (i ,len(num)))\n",
    "    fig, ax = plt.subplots(figsize=(10,6))\n",
    "    g=sns.barplot(x=num.index,y=num)\n",
    "    g.set_xticklabels(num.index,rotation=45)\n",
    "    \n",
    "    plt.show()"
   ]
  },
  {
   "cell_type": "code",
   "execution_count": 19,
   "metadata": {},
   "outputs": [
    {
     "name": "stdout",
     "output_type": "stream",
     "text": [
      "ghraph for mise_en_vente :counts= 10\n"
     ]
    },
    {
     "data": {
      "image/png": "[encoded data removed]",
      "text/plain": [
       "<Figure size 720x432 with 1 Axes>"
      ]
     },
     "metadata": {
      "needs_background": "light"
     },
     "output_type": "display_data"
    }
   ],
   "source": [
    "num=data['location'].value_counts()[:10]\n",
    "    \n",
    "print('ghraph for %s :counts= %d' % (i ,len(num)))\n",
    "fig, ax = plt.subplots(figsize=(10,6))\n",
    "g=sns.barplot(x=num.index,y=num)\n",
    "g.set_xticklabels(num.index,rotation=45)\n",
    "    \n",
    "plt.show()"
   ]
  },
  {
   "cell_type": "code",
   "execution_count": 20,
   "metadata": {},
   "outputs": [
    {
     "data": {
      "text/html": [
       "<div>\n",
       "<style scoped>\n",
       "    .dataframe tbody tr th:only-of-type {\n",
       "        vertical-align: middle;\n",
       "    }\n",
       "\n",
       "    .dataframe tbody tr th {\n",
       "        vertical-align: top;\n",
       "    }\n",
       "\n",
       "    .dataframe thead th {\n",
       "        text-align: right;\n",
       "    }\n",
       "</style>\n",
       "<table border=\"1\" class=\"dataframe\">\n",
       "  <thead>\n",
       "    <tr style=\"text-align: right;\">\n",
       "      <th></th>\n",
       "      <th>prices</th>\n",
       "    </tr>\n",
       "    <tr>\n",
       "      <th>km</th>\n",
       "      <th></th>\n",
       "    </tr>\n",
       "  </thead>\n",
       "  <tbody>\n",
       "    <tr>\n",
       "      <th>0</th>\n",
       "      <td>26329.850746</td>\n",
       "    </tr>\n",
       "    <tr>\n",
       "      <th>1200</th>\n",
       "      <td>34800.000000</td>\n",
       "    </tr>\n",
       "    <tr>\n",
       "      <th>1237</th>\n",
       "      <td>67000.000000</td>\n",
       "    </tr>\n",
       "    <tr>\n",
       "      <th>2000</th>\n",
       "      <td>40833.333333</td>\n",
       "    </tr>\n",
       "    <tr>\n",
       "      <th>2950</th>\n",
       "      <td>77000.000000</td>\n",
       "    </tr>\n",
       "    <tr>\n",
       "      <th>...</th>\n",
       "      <td>...</td>\n",
       "    </tr>\n",
       "    <tr>\n",
       "      <th>686000</th>\n",
       "      <td>42500.000000</td>\n",
       "    </tr>\n",
       "    <tr>\n",
       "      <th>800000</th>\n",
       "      <td>16000.000000</td>\n",
       "    </tr>\n",
       "    <tr>\n",
       "      <th>848000</th>\n",
       "      <td>23000.000000</td>\n",
       "    </tr>\n",
       "    <tr>\n",
       "      <th>1000000</th>\n",
       "      <td>29100.000000</td>\n",
       "    </tr>\n",
       "    <tr>\n",
       "      <th>1400000</th>\n",
       "      <td>18000.000000</td>\n",
       "    </tr>\n",
       "  </tbody>\n",
       "</table>\n",
       "<p>431 rows × 1 columns</p>\n",
       "</div>"
      ],
      "text/plain": [
       "               prices\n",
       "km                   \n",
       "0        26329.850746\n",
       "1200     34800.000000\n",
       "1237     67000.000000\n",
       "2000     40833.333333\n",
       "2950     77000.000000\n",
       "...               ...\n",
       "686000   42500.000000\n",
       "800000   16000.000000\n",
       "848000   23000.000000\n",
       "1000000  29100.000000\n",
       "1400000  18000.000000\n",
       "\n",
       "[431 rows x 1 columns]"
      ]
     },
     "execution_count": 20,
     "metadata": {},
     "output_type": "execute_result"
    }
   ],
   "source": [
    "pd.pivot_table(data, index =['km'],values='prices')"
   ]
  },
  {
   "cell_type": "code",
   "execution_count": 21,
   "metadata": {},
   "outputs": [
    {
     "data": {
      "text/html": [
       "<div>\n",
       "<style scoped>\n",
       "    .dataframe tbody tr th:only-of-type {\n",
       "        vertical-align: middle;\n",
       "    }\n",
       "\n",
       "    .dataframe tbody tr th {\n",
       "        vertical-align: top;\n",
       "    }\n",
       "\n",
       "    .dataframe thead th {\n",
       "        text-align: right;\n",
       "    }\n",
       "</style>\n",
       "<table border=\"1\" class=\"dataframe\">\n",
       "  <thead>\n",
       "    <tr style=\"text-align: right;\">\n",
       "      <th></th>\n",
       "      <th></th>\n",
       "      <th>prices</th>\n",
       "    </tr>\n",
       "    <tr>\n",
       "      <th>type_seller</th>\n",
       "      <th>etat</th>\n",
       "      <th></th>\n",
       "    </tr>\n",
       "  </thead>\n",
       "  <tbody>\n",
       "    <tr>\n",
       "      <th rowspan=\"8\" valign=\"top\">particulier</th>\n",
       "      <th>Assez bon</th>\n",
       "      <td>12833.333333</td>\n",
       "    </tr>\n",
       "    <tr>\n",
       "      <th>Bon</th>\n",
       "      <td>13820.155039</td>\n",
       "    </tr>\n",
       "    <tr>\n",
       "      <th>D'origine</th>\n",
       "      <td>43200.082569</td>\n",
       "    </tr>\n",
       "    <tr>\n",
       "      <th>En marche</th>\n",
       "      <td>22644.444444</td>\n",
       "    </tr>\n",
       "    <tr>\n",
       "      <th>En panne</th>\n",
       "      <td>5000.000000</td>\n",
       "    </tr>\n",
       "    <tr>\n",
       "      <th>Excellent</th>\n",
       "      <td>42620.231023</td>\n",
       "    </tr>\n",
       "    <tr>\n",
       "      <th>Neuf</th>\n",
       "      <td>53187.000000</td>\n",
       "    </tr>\n",
       "    <tr>\n",
       "      <th>Très bon</th>\n",
       "      <td>26329.580052</td>\n",
       "    </tr>\n",
       "    <tr>\n",
       "      <th rowspan=\"8\" valign=\"top\">professionnel</th>\n",
       "      <th>Assez bon</th>\n",
       "      <td>36000.000000</td>\n",
       "    </tr>\n",
       "    <tr>\n",
       "      <th>Bon</th>\n",
       "      <td>10000.000000</td>\n",
       "    </tr>\n",
       "    <tr>\n",
       "      <th>D'origine</th>\n",
       "      <td>47311.125000</td>\n",
       "    </tr>\n",
       "    <tr>\n",
       "      <th>En marche</th>\n",
       "      <td>16000.000000</td>\n",
       "    </tr>\n",
       "    <tr>\n",
       "      <th>En panne</th>\n",
       "      <td>44400.000000</td>\n",
       "    </tr>\n",
       "    <tr>\n",
       "      <th>Excellent</th>\n",
       "      <td>53708.580858</td>\n",
       "    </tr>\n",
       "    <tr>\n",
       "      <th>Neuf</th>\n",
       "      <td>105642.857143</td>\n",
       "    </tr>\n",
       "    <tr>\n",
       "      <th>Très bon</th>\n",
       "      <td>54136.956522</td>\n",
       "    </tr>\n",
       "  </tbody>\n",
       "</table>\n",
       "</div>"
      ],
      "text/plain": [
       "                                prices\n",
       "type_seller   etat                    \n",
       "particulier   Assez bon   12833.333333\n",
       "              Bon         13820.155039\n",
       "              D'origine   43200.082569\n",
       "              En marche   22644.444444\n",
       "              En panne     5000.000000\n",
       "              Excellent   42620.231023\n",
       "              Neuf        53187.000000\n",
       "              Très bon    26329.580052\n",
       "professionnel Assez bon   36000.000000\n",
       "              Bon         10000.000000\n",
       "              D'origine   47311.125000\n",
       "              En marche   16000.000000\n",
       "              En panne    44400.000000\n",
       "              Excellent   53708.580858\n",
       "              Neuf       105642.857143\n",
       "              Très bon    54136.956522"
      ]
     },
     "execution_count": 21,
     "metadata": {},
     "output_type": "execute_result"
    }
   ],
   "source": [
    "pd.pivot_table(data, index =['type_seller','etat'],values='prices')"
   ]
  },
  {
   "cell_type": "code",
   "execution_count": null,
   "metadata": {},
   "outputs": [],
   "source": []
  },
  {
   "cell_type": "code",
   "execution_count": null,
   "metadata": {},
   "outputs": [],
   "source": []
  }
 ],
 "metadata": {
  "kernelspec": {
   "display_name": "Python 3",
   "language": "python",
   "name": "python3"
  },
  "language_info": {
   "codemirror_mode": {
    "name": "ipython",
    "version": 3
   },
   "file_extension": ".py",
   "mimetype": "text/x-python",
   "name": "python",
   "nbconvert_exporter": "python",
   "pygments_lexer": "ipython3",
   "version": "3.8.8"
  }
 },
 "nbformat": 4,
 "nbformat_minor": 4
}
